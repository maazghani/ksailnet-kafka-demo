{
 "cells": [
  {
   "cell_type": "markdown",
   "metadata": {},
   "source": [
    "# Simulating Kafka Resiliency with Pod Topology Constraints in Kubernetes\n",
    "----------\n",
    "\n",
    "If you would like to run this notebook live, you can create a codespace using the devcontainer in this repository. The devcontainer has all the necessary tools and dependencies installed. Once launched, you can open this notebook, click Clear All Outputs and run the cells. \n",
    "\n",
    "## Introduction\n",
    "In this notebook, we will simulate a Kafka cluster with 3 brokers in a k3s environment. We will use Pod Topology Constraints to ensure that the Kafka brokers and Zookeeper nodes are scheduled on different nodes. We will then simulate a node failure and observe how the Kafka cluster behaves.\n",
    "\n",
    "## Step 1: Create a k3s cluster\n",
    "Note: We will label the k3s nodes with topology.kubernetes.io/zone so that we can use Pod Topology Constraints to ensure that the Kafka brokers and Zookeeper nodes are scheduled on different nodes."
   ]
  },
  {
   "cell_type": "code",
   "execution_count": 1,
   "metadata": {},
   "outputs": [
    {
     "name": "stdout",
     "output_type": "stream",
     "text": [
      "\u001b[36mINFO\u001b[0m[0000] Prep: Network                                \n",
      "\u001b[36mINFO\u001b[0m[0000] Created network 'k3d-kube-cluster'           \n",
      "\u001b[36mINFO\u001b[0m[0000] Created image volume k3d-kube-cluster-images \n",
      "\u001b[36mINFO\u001b[0m[0000] Starting new tools node...                   \n",
      "\u001b[36mINFO\u001b[0m[0000] Pulling image 'ghcr.io/k3d-io/k3d-tools:5.6.0' \n",
      "\u001b[36mINFO\u001b[0m[0001] Creating node 'k3d-kube-cluster-server-0'    \n",
      "\u001b[36mINFO\u001b[0m[0002] Pulling image 'docker.io/rancher/k3s:v1.27.4-k3s1' \n",
      "\u001b[36mINFO\u001b[0m[0002] Starting Node 'k3d-kube-cluster-tools'       \n",
      "\u001b[36mINFO\u001b[0m[0005] Creating node 'k3d-kube-cluster-agent-0'     \n",
      "\u001b[36mINFO\u001b[0m[0006] Creating node 'k3d-kube-cluster-agent-1'     \n",
      "\u001b[36mINFO\u001b[0m[0006] Creating node 'k3d-kube-cluster-agent-2'     \n",
      "\u001b[36mINFO\u001b[0m[0006] Creating LoadBalancer 'k3d-kube-cluster-serverlb' \n",
      "\u001b[36mINFO\u001b[0m[0007] Pulling image 'ghcr.io/k3d-io/k3d-proxy:5.6.0' \n",
      "\u001b[36mINFO\u001b[0m[0010] Using the k3d-tools node to gather environment information \n",
      "\u001b[36mINFO\u001b[0m[0010] HostIP: using network gateway 172.18.0.1 address \n",
      "\u001b[36mINFO\u001b[0m[0010] Starting cluster 'kube-cluster'              \n",
      "\u001b[36mINFO\u001b[0m[0010] Starting servers...                          \n",
      "\u001b[36mINFO\u001b[0m[0011] Starting Node 'k3d-kube-cluster-server-0'    \n",
      "\u001b[36mINFO\u001b[0m[0014] Starting agents...                           \n",
      "\u001b[36mINFO\u001b[0m[0014] Starting Node 'k3d-kube-cluster-agent-1'     \n",
      "\u001b[36mINFO\u001b[0m[0014] Starting Node 'k3d-kube-cluster-agent-2'     \n",
      "\u001b[36mINFO\u001b[0m[0014] Starting Node 'k3d-kube-cluster-agent-0'     \n",
      "\u001b[36mINFO\u001b[0m[0020] Starting helpers...                          \n",
      "\u001b[36mINFO\u001b[0m[0020] Starting Node 'k3d-kube-cluster-serverlb'    \n",
      "\u001b[36mINFO\u001b[0m[0026] Injecting records for hostAliases (incl. host.k3d.internal) and for 5 network members into CoreDNS configmap... \n",
      "\u001b[36mINFO\u001b[0m[0028] Cluster 'kube-cluster' created successfully! \n",
      "\u001b[36mINFO\u001b[0m[0028] You can now use it like this:                \n",
      "kubectl cluster-info\n"
     ]
    }
   ],
   "source": [
    "!/usr/local/bin/k3d cluster create kube-cluster \\\n",
    "  --agents 3 \\\n",
    "  --k3s-node-label topology.kubernetes.io/zone=zone-a@agent:0 \\\n",
    "  --k3s-node-label topology.kubernetes.io/zone=zone-b@agent:1 \\\n",
    "  --k3s-node-label topology.kubernetes.io/zone=zone-c@agent:2"
   ]
  },
  {
   "cell_type": "markdown",
   "metadata": {},
   "source": [
    "## Step 2: Deploy Kafka\n",
    "The following stateful set can be found under deploy/kafka/01-sts.yaml. It deploys a Kafka cluster with 3 brokers. The stateful set uses Pod Topology Constraints to ensure that the Kafka brokers are scheduled on different nodes.\n",
    "\n",
    "We will also deploy a headless service for the Kafka brokers."
   ]
  },
  {
   "cell_type": "code",
   "execution_count": 12,
   "metadata": {},
   "outputs": [
    {
     "name": "stdout",
     "output_type": "stream",
     "text": [
      "serviceaccount/kafka unchanged\n",
      "service/kafka-headless unchanged\n",
      "statefulset.apps/kafka created\n"
     ]
    }
   ],
   "source": [
    "!kubectl apply -f deploy/kafka/01-sts.yaml"
   ]
  },
  {
   "cell_type": "markdown",
   "metadata": {},
   "source": [
    "Notice that each pod is running on a different node."
   ]
  },
  {
   "cell_type": "code",
   "execution_count": 87,
   "metadata": {},
   "outputs": [
    {
     "name": "stdout",
     "output_type": "stream",
     "text": [
      "NAME      READY   STATUS    RESTARTS   AGE     IP          NODE                       NOMINATED NODE   READINESS GATES\n",
      "kafka-0   1/1     Running   0          3m37s   10.42.0.4   k3d-kube-cluster-agent-0   <none>           <none>\n",
      "kafka-1   1/1     Running   0          3m37s   10.42.2.5   k3d-kube-cluster-agent-2   <none>           <none>\n",
      "kafka-2   1/1     Running   0          3m37s   10.42.1.4   k3d-kube-cluster-agent-1   <none>           <none>\n"
     ]
    }
   ],
   "source": [
    "! kubectl get pods -n kafka -o wide"
   ]
  },
  {
   "cell_type": "markdown",
   "metadata": {},
   "source": [
    "With the stateful set and headless service deployed, we can now test the Kafka cluster.\n",
    "We will exec into one of the Kafka brokers and create a topic called \"test\"."
   ]
  },
  {
   "cell_type": "code",
   "execution_count": 85,
   "metadata": {},
   "outputs": [
    {
     "name": "stdout",
     "output_type": "stream",
     "text": [
      "Created topic test.\n"
     ]
    }
   ],
   "source": [
    "! kubectl -n kafka exec -it kafka-0 -- kafka-topics --create --topic test --partitions 3 --replication-factor 3 --bootstrap-server kafka-0.kafka-headless.kafka.svc.cluster.local:9092"
   ]
  },
  {
   "cell_type": "markdown",
   "metadata": {},
   "source": [
    "With the topic created, if we run a describe topic command, we should see the topic \"test\" with 3 partitions and a replication factor of 3.\n",
    "\n"
   ]
  },
  {
   "cell_type": "code",
   "execution_count": 86,
   "metadata": {},
   "outputs": [
    {
     "name": "stdout",
     "output_type": "stream",
     "text": [
     "Topic: test     TopicId: WmMXgsr2RcyZU9ohfoTUWQ PartitionCount: 3       ReplicationFactor: 3    Configs: \n",
    "        Topic: test     Partition: 0    Leader: 0       Replicas: 0,1,2 Isr: 0,1,2\n",
    "        Topic: test     Partition: 1    Leader: 1       Replicas: 1,2,0 Isr: 1,2,0\n",
    "        Topic: test     Partition: 2    Leader: 2       Replicas: 2,0,1 Isr: 2,0,1\n"
     ]
    }
   ],
   "source": [
    "! kubectl -n kafka exec -it kafka-0 -- kafka-topics --describe --topic test --bootstrap-server kafka-0.kafka-headless.kafka.svc.cluster.local:9092"
   ]
  },
  {
   "cell_type": "markdown",
   "metadata": {},
   "source": [
    "## Step 3: Simulate a node failure\n",
    "We will simulate a node failure by scaling the stateful set down to 2 replicas. We will then describe the topic again and observe the change in the number of in-sync replicas."
   ]
  },
  {
   "cell_type": "code",
   "execution_count": null,
   "metadata": {},
   "outputs": [],
   "source": [
    "! kubectl -n kafka scale sts kafka --replicas=2"
   ]
  },
  {
   "cell_type": "code",
   "execution_count": null,
   "metadata": {},
   "outputs": [],
   "source": [
    "! kubectl -n kafka exec -it kafka-0 -- kafka-topics --describe --topic test --bootstrap-server kafka-0.kafka-headless.kafka.svc.cluster.local:9092"
   ]
  }
 ],
 "metadata": {
  "kernelspec": {
   "display_name": "Python 3",
   "language": "python",
   "name": "python3"
  },
  "language_info": {
   "codemirror_mode": {
    "name": "ipython",
    "version": 3
   },
   "file_extension": ".py",
   "mimetype": "text/x-python",
   "name": "python",
   "nbconvert_exporter": "python",
   "pygments_lexer": "ipython3",
   "version": "3.11.2"
  }
 },
 "nbformat": 4,
 "nbformat_minor": 2
}
